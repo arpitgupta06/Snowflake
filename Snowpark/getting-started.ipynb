{
 "cells": [
  {
   "cell_type": "markdown",
   "source": [
    "*For Local installation we create a virtual environment.*\n",
    "- `conda create --name snowpark-de-ml -c https://repo.anaconda.com/pkgs/snowflake python=3.8` # Keep python 3.8 because snowpark package doesn't work above versions.\n",
    "\n",
    "- `conda activate snowpark-de-ml`\n",
    "Install Snowpark Python and other libraries in conda environment\n",
    "\n",
    "- `conda install -c https://repo.anaconda.com/pkgs/snowflake snowflake-snowpark-python pandas notebook scikit-learn cachetools`\n",
    "\n",
    "Now use snowpark-de-ml as your current interpreter"
   ],
   "metadata": {
    "collapsed": false
   }
  },
  {
   "cell_type": "markdown",
   "source": [
    "## Import Libraries"
   ],
   "metadata": {
    "collapsed": false
   }
  },
  {
   "cell_type": "code",
   "execution_count": 16,
   "outputs": [],
   "source": [
    "#Import all the necessary packages\n",
    "from snowflake.snowpark.session import Session\n",
    "from snowflake.snowpark.version import VERSION\n",
    "from snowflake.snowpark.functions import month, year, col, sum\n",
    "import json\n",
    "import logging\n",
    "logger = logging.getLogger(\"snowflake.snowpark.session\")\n",
    "logger.setLevel(logging.ERROR)"
   ],
   "metadata": {
    "collapsed": false,
    "ExecuteTime": {
     "end_time": "2023-07-17T08:05:57.723682800Z",
     "start_time": "2023-07-17T08:05:57.707345300Z"
    }
   }
  },
  {
   "cell_type": "markdown",
   "source": [
    "## Establish Connection to Snowflake\n",
    "\n",
    "I have already kept a JSON file (your_authentication.json) with the structure of credentials mentioned in it."
   ],
   "metadata": {
    "collapsed": false
   }
  },
  {
   "cell_type": "code",
   "execution_count": 3,
   "outputs": [],
   "source": [
    "connection_parameters = json.load(open('auth.json'))\n",
    "session = Session.builder.configs(connection_parameters).create()\n",
    "session.sql_simplifier_enabled = True\n",
    "snowflake_environment = session.sql('select current_user(), current_version()').collect()\n",
    "snowpark_version = VERSION"
   ],
   "metadata": {
    "collapsed": false,
    "ExecuteTime": {
     "end_time": "2023-07-17T06:31:25.763451400Z",
     "start_time": "2023-07-17T06:31:22.920086400Z"
    }
   }
  },
  {
   "cell_type": "code",
   "execution_count": 4,
   "outputs": [
    {
     "name": "stdout",
     "output_type": "stream",
     "text": [
      "User: AGUPTA07\n",
      "Warehouse: \"COMPUTE_WH\"\n",
      "Snowflake version: 7.23.1\n"
     ]
    }
   ],
   "source": [
    "# Current Environment Details\n",
    "print('User: {}'.format(snowflake_environment[0][0]))\n",
    "print('Warehouse: {}'.format(session.get_current_warehouse()))\n",
    "print('Snowflake version: {}'.format(snowflake_environment[0][1]))"
   ],
   "metadata": {
    "collapsed": false,
    "ExecuteTime": {
     "end_time": "2023-07-17T06:34:22.879535900Z",
     "start_time": "2023-07-17T06:34:22.879535900Z"
    }
   }
  },
  {
   "cell_type": "markdown",
   "source": [
    "## Read the table from your Snowflake environment\n"
   ],
   "metadata": {
    "collapsed": false
   }
  },
  {
   "cell_type": "markdown",
   "source": [
    "### Load and read the data by Snowpark Dataframe"
   ],
   "metadata": {
    "collapsed": false
   }
  },
  {
   "cell_type": "code",
   "execution_count": 5,
   "outputs": [
    {
     "data": {
      "text/plain": "{'queries': ['SELECT  *  FROM (google_keywords_search_dataset.datafeeds.google_keywords)'],\n 'post_actions': []}"
     },
     "execution_count": 5,
     "metadata": {},
     "output_type": "execute_result"
    }
   ],
   "source": [
    "dataset = session.table('google_keywords_search_dataset.datafeeds.google_keywords')\n",
    "dataset.queries"
   ],
   "metadata": {
    "collapsed": false,
    "ExecuteTime": {
     "end_time": "2023-07-17T06:41:58.488932200Z",
     "start_time": "2023-07-17T06:41:58.473392900Z"
    }
   }
  },
  {
   "cell_type": "code",
   "execution_count": 7,
   "outputs": [
    {
     "name": "stdout",
     "output_type": "stream",
     "text": [
      "--------------------------------------------------------------------------------------------------------------------------------------------------------------------------------------------------------------------------------------------------------------------------------------\n",
      "|\"COUNTRY\"  |\"KEYWORD\"                        |\"SITE\"                    |\"YEAR\"  |\"MONTH\"  |\"DAY\"  |\"PLATFORM\"  |\"REFERRAL_TYPE\"  |\"CLEAN_LANDINGPAGE\"                                 |\"CALIBRATED_USERS\"  |\"CALIBRATED_CLICKS\"  |\"IS_BRANDED_KEYWORD\"  |\"IS_QUESTION\"  |\"DATE\"    |\n",
      "--------------------------------------------------------------------------------------------------------------------------------------------------------------------------------------------------------------------------------------------------------------------------------------\n",
      "|36         |japanese name converter          |nolanlawson.com           |22      |06       |02     |desktop     |ORGANIC          |japanesenameconverter.nolanlawson.com               |1.2585018469707387  |1.2585018469707387   |0                     |0              |22-06-02  |\n",
      "|36         |alarm clock online               |onlineclock.net           |22      |06       |02     |desktop     |ORGANIC          |onlineclock.net                                     |1.2585018469707387  |2.5170036939414775   |1                     |0              |22-06-02  |\n",
      "|36         |attitudes to school survey       |orima.com.au              |22      |06       |02     |desktop     |ORGANIC          |research.orima.com.au/AtoSS                         |1.2585018469707387  |1.2585018469707387   |0                     |0              |22-06-02  |\n",
      "|36         |hoi4 console commands            |paradoxwikis.com          |22      |06       |02     |desktop     |ORGANIC          |hoi4.paradoxwikis.com/Console_commands              |1.2585018469707387  |1.2585018469707387   |0                     |0              |22-06-02  |\n",
      "|36         |pet circle                       |petcircle.com.au          |22      |06       |02     |desktop     |ORGANIC          |petcircle.com.au/cat                                |1.2585018469707387  |1.2585018469707387   |1                     |0              |22-06-02  |\n",
      "|36         |buy ps5                          |playstation.com           |22      |06       |02     |desktop     |ORGANIC          |direct.playstation.com/en-us                        |1.2585018469707387  |1.2585018469707387   |0                     |0              |22-06-02  |\n",
      "|36         |ple                              |ple.com.au                |22      |06       |02     |desktop     |ORGANIC          |ple.com.au                                          |1.2585018469707387  |1.2585018469707387   |1                     |0              |22-06-02  |\n",
      "|36         |priceline                        |priceline.com.au          |22      |06       |02     |desktop     |PAID             |priceline.com.au/pharmacy-services/vaccines/flu...  |1.2585018469707387  |1.2585018469707387   |1                     |0              |22-06-02  |\n",
      "|36         |proquest                         |proquest.com              |22      |06       |02     |desktop     |ORGANIC          |proquest.com                                        |1.2585018469707387  |1.2585018469707387   |0                     |0              |22-06-02  |\n",
      "|36         |rainbow filter                   |rainbowfilter.io          |22      |06       |02     |desktop     |ORGANIC          |rainbowfilter.io                                    |1.2585018469707387  |2.5170036939414775   |0                     |0              |22-06-02  |\n",
      "|36         |sbs world movies                 |sbs.com.au                |22      |06       |02     |desktop     |ORGANIC          |sbs.com.au/ondemand/channels/sbs-world-movies       |1.2585018469707387  |1.2585018469707387   |0                     |0              |22-06-02  |\n",
      "|36         |coevolution                      |sciencedirect.com         |22      |06       |02     |desktop     |ORGANIC          |sciencedirect.com/topics/agricultural-and-biolo...  |1.2585018469707387  |1.2585018469707387   |0                     |0              |22-06-02  |\n",
      "|36         |carer allowance                  |servicesaustralia.gov.au  |22      |06       |02     |desktop     |ORGANIC          |servicesaustralia.gov.au/carer-allowance            |1.2585018469707387  |1.2585018469707387   |0                     |0              |22-06-02  |\n",
      "|36         |electric shavers                 |shavershop.com.au         |22      |06       |02     |desktop     |ORGANIC          |shavershop.com.au/electric-shavers                  |1.2585018469707387  |1.2585018469707387   |0                     |0              |22-06-02  |\n",
      "|36         |krisflyer                        |singaporeair.com          |22      |06       |02     |desktop     |ORGANIC          |singaporeair.com/en_UK/us/ppsclub-krisflyer         |1.2585018469707387  |1.2585018469707387   |0                     |0              |22-06-02  |\n",
      "|36         |krisflyer                        |singaporeair.com          |22      |06       |02     |desktop     |ORGANIC          |singaporeair.com/kfLogin.form                       |1.2585018469707387  |1.2585018469707387   |0                     |0              |22-06-02  |\n",
      "|36         |squarespace pricing              |squarespace.com           |22      |06       |02     |desktop     |ORGANIC          |squarespace.com/pricing                             |1.2585018469707387  |1.2585018469707387   |0                     |0              |22-06-02  |\n",
      "|36         |bone fragment stardew            |stardewvalleywiki.com     |22      |06       |02     |desktop     |ORGANIC          |stardewvalleywiki.com/Bone_Fragment                 |1.2585018469707387  |1.2585018469707387   |0                     |0              |22-06-02  |\n",
      "|36         |st lukes health                  |stlukes.com.au            |22      |06       |02     |desktop     |ORGANIC          |stlukes.com.au                                      |1.2585018469707387  |1.2585018469707387   |1                     |0              |22-06-02  |\n",
      "|36         |limit calculator                 |symbolab.com              |22      |06       |02     |desktop     |ORGANIC          |symbolab.com/solver/limit-calculator                |1.2585018469707387  |1.2585018469707387   |0                     |0              |22-06-02  |\n",
      "|36         |tenant app                       |tenantapp.com.au          |22      |06       |02     |desktop     |ORGANIC          |tenantapp.com.au/Rentals                            |1.2585018469707387  |2.5170036939414775   |1                     |0              |22-06-02  |\n",
      "|36         |tor                              |torproject.org            |22      |06       |02     |desktop     |ORGANIC          |torproject.org/download                             |1.2585018469707387  |1.2585018469707387   |1                     |0              |22-06-02  |\n",
      "|36         |tradezone                        |tradezone.com.au          |22      |06       |02     |desktop     |ORGANIC          |tradezone.com.au                                    |1.2585018469707387  |1.2585018469707387   |1                     |0              |22-06-02  |\n",
      "|36         |uq courses                       |uq.edu.au                 |22      |06       |02     |desktop     |ORGANIC          |my.uq.edu.au/programs-courses                       |1.2585018469707387  |3.7755055409122162   |0                     |0              |22-06-02  |\n",
      "|36         |usq library                      |usq.edu.au                |22      |06       |02     |desktop     |ORGANIC          |usq.edu.au/library                                  |1.2585018469707387  |1.2585018469707387   |0                     |0              |22-06-02  |\n",
      "|36         |endnote uwa                      |uwa.edu.au                |22      |06       |02     |desktop     |ORGANIC          |guides.library.uwa.edu.au/EndNote/Get               |1.2585018469707387  |2.5170036939414775   |0                     |0              |22-06-02  |\n",
      "|36         |gold coast flights               |virginaustralia.com       |22      |06       |02     |desktop     |ORGANIC          |virginaustralia.com/en-au/flights-to-gold-coast     |1.2585018469707387  |1.2585018469707387   |0                     |0              |22-06-02  |\n",
      "|36         |margin css                       |w3schools.com             |22      |06       |02     |desktop     |ORGANIC          |w3schools.com/css/css_margin.asp                    |1.2585018469707387  |1.2585018469707387   |0                     |0              |22-06-02  |\n",
      "|36         |w concept                        |wconcept.com              |22      |06       |02     |desktop     |PAID             |us.wconcept.com/                                    |1.2585018469707387  |1.2585018469707387   |1                     |0              |22-06-02  |\n",
      "|36         |adelaide weather                 |weatherzone.com.au        |22      |06       |02     |desktop     |ORGANIC          |weatherzone.com.au/sa/adelaide/adelaide             |1.2585018469707387  |2.5170036939414775   |0                     |0              |22-06-02  |\n",
      "|36         |andrew garfield                  |wikipedia.org             |22      |06       |02     |desktop     |ORGANIC          |en.wikipedia.org/wiki/Andrew_Garfield               |1.2585018469707387  |1.2585018469707387   |0                     |0              |22-06-02  |\n",
      "|36         |dc animated movies               |wikipedia.org             |22      |06       |02     |desktop     |ORGANIC          |en.wikipedia.org/wiki/DC_Universe_Animated_Orig...  |1.2585018469707387  |1.2585018469707387   |0                     |0              |22-06-02  |\n",
      "|36         |geostorm                         |wikipedia.org             |22      |06       |02     |desktop     |ORGANIC          |en.wikipedia.org/wiki/Geostorm                      |1.2585018469707387  |1.2585018469707387   |0                     |0              |22-06-02  |\n",
      "|36         |henry hill                       |wikipedia.org             |22      |06       |02     |desktop     |ORGANIC          |en.wikipedia.org/wiki/Henry_Hill                    |1.2585018469707387  |1.2585018469707387   |0                     |0              |22-06-02  |\n",
      "|36         |kevin spacey                     |wikipedia.org             |22      |06       |02     |desktop     |ORGANIC          |en.wikipedia.org/wiki/Kevin_Spacey                  |1.2585018469707387  |1.2585018469707387   |0                     |0              |22-06-02  |\n",
      "|36         |penicillin                       |wikipedia.org             |22      |06       |02     |desktop     |ORGANIC          |en.wikipedia.org/wiki/Penicillin                    |1.2585018469707387  |1.2585018469707387   |0                     |0              |22-06-02  |\n",
      "|36         |stevens johnson syndrome         |wikipedia.org             |22      |06       |02     |desktop     |ORGANIC          |en.wikipedia.org/wiki/Stevens–Johnson_syndrome      |1.2585018469707387  |2.5170036939414775   |0                     |0              |22-06-02  |\n",
      "|36         |collingwood leisure centre       |yarracity.vic.gov.au      |22      |06       |02     |desktop     |ORGANIC          |leisure.yarracity.vic.gov.au/locations/collingw...  |1.2585018469707387  |1.2585018469707387   |0                     |0              |22-06-02  |\n",
      "|36         |yify                             |yify.surf                 |22      |06       |02     |desktop     |ORGANIC          |ww3.yify.surf                                       |1.2585018469707387  |1.2585018469707387   |0                     |0              |22-06-02  |\n",
      "|36         |winnie the pooh blood and honey  |youtube.com               |22      |06       |02     |desktop     |ORGANIC          |youtube.com/watch                                   |1.2585018469707387  |1.2585018469707387   |0                     |0              |22-06-02  |\n",
      "|36         |zavvi                            |zavvi.com.au              |22      |06       |02     |desktop     |PAID             |zavvi.com.au/blu-ray-and-dvd.list                   |1.2585018469707387  |1.2585018469707387   |1                     |0              |22-06-02  |\n",
      "|36         |isfp                             |16personalities.com       |22      |06       |02     |desktop     |ORGANIC          |16personalities.com/isfp-personality                |1.2585018469707387  |1.2585018469707387   |0                     |0              |22-06-02  |\n",
      "|36         |4porn                            |4porn.com                 |22      |06       |02     |desktop     |ORGANIC          |4porn.com/en                                        |1.2585018469707387  |2.5170036939414775   |0                     |0              |22-06-02  |\n",
      "|36         |access pay                       |accesspay.com.au          |22      |06       |02     |desktop     |ORGANIC          |account.accesspay.com.au/login.aspx                 |1.2585018469707387  |1.2585018469707387   |1                     |0              |22-06-02  |\n",
      "|36         |odds calculator                  |actionnetwork.com         |22      |06       |02     |desktop     |ORGANIC          |actionnetwork.com/betting-calculators/betting-o...  |1.2585018469707387  |1.2585018469707387   |0                     |0              |22-06-02  |\n",
      "|36         |seiko snxs79                     |amazon.com.au             |22      |06       |02     |desktop     |PAID             |amazon.com.au/SEIKO-Stainless-Mechanical-Self-w...  |1.2585018469707387  |1.2585018469707387   |0                     |0              |22-06-02  |\n",
      "|36         |apple tv login                   |apple.com                 |22      |06       |02     |desktop     |ORGANIC          |tv.apple.com                                        |1.2585018469707387  |1.2585018469707387   |0                     |0              |22-06-02  |\n",
      "|36         |atp                              |atptour.com               |22      |06       |02     |desktop     |ORGANIC          |atptour.com                                         |1.2585018469707387  |2.5170036939414775   |0                     |0              |22-06-02  |\n",
      "|36         |avs forum                        |avsforum.com              |22      |06       |02     |desktop     |ORGANIC          |avsforum.com                                        |1.2585018469707387  |1.2585018469707387   |1                     |0              |22-06-02  |\n",
      "|36         |ukraine war map                  |bbc.com                   |22      |06       |02     |desktop     |ORGANIC          |bbc.com/news/world-europe-60506682                  |1.2585018469707387  |1.2585018469707387   |0                     |0              |22-06-02  |\n",
      "--------------------------------------------------------------------------------------------------------------------------------------------------------------------------------------------------------------------------------------------------------------------------------------\n",
      "\n"
     ]
    }
   ],
   "source": [
    "dataset.show(50)"
   ],
   "metadata": {
    "collapsed": false,
    "ExecuteTime": {
     "end_time": "2023-07-17T06:44:53.378145500Z",
     "start_time": "2023-07-17T06:44:52.698484600Z"
    }
   }
  },
  {
   "cell_type": "code",
   "execution_count": 10,
   "outputs": [],
   "source": [
    "# Like SQL worksheet, you can mention your DB and Schema names\n",
    "session.use_database('workforce_data_analytics')\n",
    "session.use_schema('public')"
   ],
   "metadata": {
    "collapsed": false,
    "ExecuteTime": {
     "end_time": "2023-07-17T07:34:52.600923100Z",
     "start_time": "2023-07-17T07:34:50.787626700Z"
    }
   }
  },
  {
   "cell_type": "code",
   "execution_count": 14,
   "outputs": [
    {
     "name": "stdout",
     "output_type": "stream",
     "text": [
      "---------------------------------------------------------------------------------------------------------------------------------------------------------------------------------------------------------------------------------------------------------------------------------------------------------------------------------------------------------------------------------------------------------------------------------------------------------------------------------------------------------------------------------------------------------------------------------------\n",
      "|\"USER_ID\"  |\"POSITION_ID\"         |\"COMPANY_RAW\"                               |\"COMPANY_LINKEDIN_URL\"                              |\"COMPANY_CLEANED\"                           |\"REGION\"                  |\"COUNTRY\"      |\"STATE\"           |\"MSA\"                                   |\"STARTDATE\"  |\"ENDDATE\"   |\"JOBTITLE_RAW\"                    |\"MAPPED_ROLE\"                 |\"JOB_CATEGORY\"  |\"SENIORITY\"  |\"SALARY\"    |\"RN\"  |\"RCID\"   |\"COMPANY_NAME\"                                      |\"ULTIMATE_PARENT_RCID\"  |\"ULTIMATE_PARENT_COMPANY_NAME\"                      |\n",
      "---------------------------------------------------------------------------------------------------------------------------------------------------------------------------------------------------------------------------------------------------------------------------------------------------------------------------------------------------------------------------------------------------------------------------------------------------------------------------------------------------------------------------------------------------------------------------------------\n",
      "|8953745    |3823781223908652122   |Synchrony                                   |http://linkedin.com/company/synchrony-financial     |synchrony                                   |Northern America          |United States  |FL                |Orlando-Kissimmee FL MSA                |2019-07-01   |NULL        |Collections Representative        |collector                     |Finance         |1            |34108.966   |5     |300370   |Synchrony Financial                                 |300370                  |Synchrony Financial                                 |\n",
      "|8953745    |4694132503516587426   |Universal Orlando Resort                    |http://linkedin.com/company/universal-orlando-r...  |universal orlando resort                    |Northern America          |United States  |FL                |Orlando-Kissimmee FL MSA                |2021-07-01   |NULL        |Sales Counselor/Customer Service  |unemployed                    |Sales           |1            |33845.617   |6     |664456   |Universal Orlando Resort                            |786030                  |Comcast Corp.                                       |\n",
      "|89538111   |-795674903998734636   |Credipass                                   |http://linkedin.com/company/credipass-spa           |credipass                                   |Southern Europe           |Italy          |Calabria          |empty                                   |2016-03-01   |NULL        |libero professionista             |unemployed                    |Sales           |3            |98148.392   |1     |1395373  |Credipass SRL                                       |22249662                |Medasev Int. (Cyprus) Ltd.                          |\n",
      "|89538117   |-955604653090037628   |DLA Piper LLP (US)                          |http://linkedin.com/company/dla-piper               |dla piper llp us                            |Northern America          |United States  |IL                |Chicago-Naperville-Joliet IL-IN-WI MSA  |2005-01-01   |2012-03-01  |Paralegal                         |paralegal                     |Admin           |2            |54068.393   |1     |369996   |DLA Piper UK LLP                                    |22228066                |DLA Piper Group                                     |\n",
      "|89538117   |-4784523754644484557  |SunCoke Energy                              |http://linkedin.com/company/suncoke-energy          |suncoke energy                              |Northern America          |United States  |IL                |Chicago-Naperville-Joliet IL-IN-WI MSA  |2012-04-01   |2022-07-01  |Senior Litigation Paralegal       |paralegal                     |Admin           |4            |56708.016   |2     |594588   |SunCoke Energy, Inc.                                |594588                  |SunCoke Energy, Inc.                                |\n",
      "|89538117   |8092406727871483958   |IDEX Corporation                            |http://linkedin.com/company/idex-corporation        |idex corporation                            |Northern America          |United States  |IL                |Chicago-Naperville-Joliet IL-IN-WI MSA  |2022-08-01   |NULL        |Senior Paralegal                  |paralegal                     |Admin           |4            |75110.585   |3     |546509   |IDEX Corp.                                          |546509                  |IDEX Corp.                                          |\n",
      "|89539166   |-9014414371024827073  |Vivende AS                                  |http://linkedin.com/company/vivende                 |vivende as                                  |Northern Europe           |Norway         |Oslo              |empty                                   |2017-08-01   |NULL        |Senior Consultant                 |consultant project            |Operations      |3            |101597.899  |1     |7051042  |Vivende As                                          |7051042                 |Vivende As                                          |\n",
      "|89539969   |6596127902603920652   |Sierra Wireless                             |http://linkedin.com/company/sierra-wireless         |sierra wireless                             |Northern America          |Canada         |British Columbia  |empty                                   |2015-01-01   |2015-08-01  |Engineer I                        |hardware engineer             |Engineer        |1            |36891.02    |1     |263808   |Sierra Wireless, Inc.                               |263808                  |Sierra Wireless, Inc.                               |\n",
      "|89539969   |-6059860450010492731  |D-Wave Systems Inc.                         |http://linkedin.com/company/d-wave-systems-inc.     |d wave systems inc                          |Northern America          |Canada         |British Columbia  |empty                                   |2015-09-01   |2016-04-01  |Process Development Engineering   |r d engineer                  |Scientist       |2            |60789.991   |2     |350325   |D-Wave Systems, Inc.                                |22269997                |D-Wave Quantum, Inc.                                |\n",
      "|89539969   |-4209435882515853697  |Groundswell Cloud Solutions                 |http://linkedin.com/company/groundswellcloud        |groundswell cloud solutions                 |Northern America          |Canada         |British Columbia  |empty                                   |2016-01-01   |2018-01-01  |Technical Consultant              |technical consultant          |Engineer        |3            |42282.489   |3     |84361    |Groundswell Cloud Solutions, Inc.                   |1120390                 |GyanSys, Inc.                                       |\n",
      "|89539969   |-8452996777426291747  |Groundswell Cloud Solutions                 |http://linkedin.com/company/groundswellcloud        |groundswell cloud solutions                 |Northern America          |Canada         |British Columbia  |empty                                   |2018-01-01   |2019-01-01  |Lead Functional Consultant        |application consultant        |Engineer        |4            |51752.639   |4     |84361    |Groundswell Cloud Solutions, Inc.                   |1120390                 |GyanSys, Inc.                                       |\n",
      "|89539969   |1153769601046843139   |Groundswell Cloud Solutions Inc             |http://linkedin.com/company/groundswellcloud        |groundswell cloud solutions inc             |Northern America          |Canada         |British Columbia  |empty                                   |2019-01-01   |2022-01-01  |Senior Manager                    |system architect              |Engineer        |5            |53934.3     |5     |84361    |Groundswell Cloud Solutions, Inc.                   |1120390                 |GyanSys, Inc.                                       |\n",
      "|89539969   |7689980387136968143   |Compass Digital Labs                        |http://linkedin.com/company/compass-digital-labs    |compass digital labs                        |Northern America          |Canada         |British Columbia  |empty                                   |2022-01-01   |NULL        |Product Manager                   |product development engineer  |Engineer        |2            |61506.112   |6     |323827   |Compass Digital Labs                                |323827                  |Compass Digital Labs                                |\n",
      "|89542621   |1059634279367813966   |SEISA Assistência Médica                    |http://linkedin.com/company/seisa-assist-ncia-m...  |seisa assistência médica                    |Southern America          |Brazil         |São Paulo         |empty                                   |2011-07-01   |2014-03-01  |Auxiliar administrativo           |administrative                |Admin           |1            |5231.109    |1     |6107698  |Seisa Serviços Integrados De Saúde Ltda             |6107698                 |Seisa Serviços Integrados De Saúde Ltda             |\n",
      "|89542621   |-2541667574978485891  |Grupo Vidas                                 |http://linkedin.com/company/grupovidas              |grupo vidas                                 |Southern America          |Brazil         |São Paulo         |empty                                   |2014-04-01   |NULL        |Farmacêutico                      |pharmacist                    |Sales           |2            |16560.113   |2     |3891050  |Grupo Vidas Home Care                               |3891050                 |Grupo Vidas Home Care                               |\n",
      "|89544811   |9182989031196771842   |JMS Group                                   |http://linkedin.com/company/jms-group               |jms group                                   |Southern Asia             |Bangladesh     |Chittagong        |empty                                   |2017-01-01   |NULL        |Executive                         |finance accounts              |Finance         |3            |10687.963   |1     |4389821  |JMS Group Ltd.                                      |4389821                 |JMS Group Ltd.                                      |\n",
      "|89549364   |4743118665334571435   |Clalit Health Services                      |http://linkedin.com/company/clalit-health-services  |clalit health services                      |Central and Western Asia  |Israel         |Tel Aviv          |empty                                   |2020-12-01   |NULL        |Dentist                           |physician                     |Scientist       |2            |106407.291  |1     |1184410  |Clalit Health Services                              |1184410                 |Clalit Health Services                              |\n",
      "|89550818   |2184120116699398351   |Chemist                                     |http://linkedin.com/company/chemist                 |chemist                                     |Southern Asia             |India          |Mahārāshtra       |empty                                   |2017-11-01   |NULL        |Pharmacist                        |pharmacist                    |Sales           |2            |29864.391   |1     |904662   |Chemist Co., Ltd.                                   |22188199                |Pharmarise Holdings Corp.                           |\n",
      "|89557614   |-5406696259218724364  |Industria De Produtos Alimenticios Piraque  |http://linkedin.com/company/industria-de-produt...  |industria de produtos alimenticios piraque  |Southern America          |Brazil         |Rio de Janeiro    |empty                                   |2011-07-01   |2018-11-01  |Assistente financeiro             |accounts receivable           |Finance         |1            |6785.686    |1     |4204019  |M Dias Branco S A Industria De Produtos Aliment...  |4204019                 |M Dias Branco S A Industria De Produtos Aliment...  |\n",
      "|89558687   |6553038975466203161   |Bay Shore Camp                              |http://linkedin.com/company/bay-shore-camp          |bay shore camp                              |Northern America          |United States  |MI                |MI NONMETROPOLITAN AREA                 |2020-09-01   |NULL        |Intern                            |teaching                      |Admin           |1            |42481.28    |1     |2271798  |Bay Shore Camp                                      |2271798                 |Bay Shore Camp                                      |\n",
      "---------------------------------------------------------------------------------------------------------------------------------------------------------------------------------------------------------------------------------------------------------------------------------------------------------------------------------------------------------------------------------------------------------------------------------------------------------------------------------------------------------------------------------------------------------------------------------------\n",
      "\n"
     ]
    }
   ],
   "source": [
    "dataset2 = session.table('REVELIO_INDIVIDUAL_POSITION')\n",
    "dataset2.show(20)"
   ],
   "metadata": {
    "collapsed": false,
    "ExecuteTime": {
     "end_time": "2023-07-17T08:04:25.415855400Z",
     "start_time": "2023-07-17T08:04:24.332812400Z"
    }
   }
  },
  {
   "cell_type": "markdown",
   "source": [
    "Now Let's check current environment details."
   ],
   "metadata": {
    "collapsed": false
   }
  },
  {
   "cell_type": "code",
   "execution_count": 11,
   "outputs": [
    {
     "name": "stdout",
     "output_type": "stream",
     "text": [
      "User :AGUPTA07\n",
      "Role :\"ACCOUNTADMIN\"\n",
      "Warehouse :\"COMPUTE_WH\"\n",
      "Database :\"WORKFORCE_DATA_ANALYTICS\"\n",
      "Schema :\"PUBLIC\"\n"
     ]
    }
   ],
   "source": [
    "print('User :{}'.format(snowflake_environment[0][0]))\n",
    "print('Role :{}'.format(session.get_current_role()))\n",
    "print('Warehouse :{}'.format(session.get_current_warehouse()))\n",
    "print('Database :{}'.format(session.get_current_database()))\n",
    "print('Schema :{}'.format(session.get_current_schema()))"
   ],
   "metadata": {
    "collapsed": false,
    "ExecuteTime": {
     "end_time": "2023-07-17T07:38:55.369692500Z",
     "start_time": "2023-07-17T07:38:55.354068500Z"
    }
   }
  },
  {
   "cell_type": "markdown",
   "source": [
    "### Load and Read the data by SQL dialect"
   ],
   "metadata": {
    "collapsed": false
   }
  },
  {
   "cell_type": "code",
   "execution_count": 12,
   "outputs": [
    {
     "name": "stdout",
     "output_type": "stream",
     "text": [
      "-----------------------------------------------------------------------------------------------------------------------------------\n",
      "|\"USER_ID\"  |\"COMPANY_CLEANED\"                           |\"REGION\"                  |\"COUNTRY\"      |\"JOB_CATEGORY\"  |\"SALARY\"    |\n",
      "-----------------------------------------------------------------------------------------------------------------------------------\n",
      "|8953745    |synchrony                                   |Northern America          |United States  |Finance         |34108.966   |\n",
      "|8953745    |universal orlando resort                    |Northern America          |United States  |Sales           |33845.617   |\n",
      "|89538111   |credipass                                   |Southern Europe           |Italy          |Sales           |98148.392   |\n",
      "|89538117   |dla piper llp us                            |Northern America          |United States  |Admin           |54068.393   |\n",
      "|89538117   |suncoke energy                              |Northern America          |United States  |Admin           |56708.016   |\n",
      "|89538117   |idex corporation                            |Northern America          |United States  |Admin           |75110.585   |\n",
      "|89539166   |vivende as                                  |Northern Europe           |Norway         |Operations      |101597.899  |\n",
      "|89539969   |sierra wireless                             |Northern America          |Canada         |Engineer        |36891.02    |\n",
      "|89539969   |d wave systems inc                          |Northern America          |Canada         |Scientist       |60789.991   |\n",
      "|89539969   |groundswell cloud solutions                 |Northern America          |Canada         |Engineer        |42282.489   |\n",
      "|89539969   |groundswell cloud solutions                 |Northern America          |Canada         |Engineer        |51752.639   |\n",
      "|89539969   |groundswell cloud solutions inc             |Northern America          |Canada         |Engineer        |53934.3     |\n",
      "|89539969   |compass digital labs                        |Northern America          |Canada         |Engineer        |61506.112   |\n",
      "|89542621   |seisa assistência médica                    |Southern America          |Brazil         |Admin           |5231.109    |\n",
      "|89542621   |grupo vidas                                 |Southern America          |Brazil         |Sales           |16560.113   |\n",
      "|89544811   |jms group                                   |Southern Asia             |Bangladesh     |Finance         |10687.963   |\n",
      "|89549364   |clalit health services                      |Central and Western Asia  |Israel         |Scientist       |106407.291  |\n",
      "|89550818   |chemist                                     |Southern Asia             |India          |Sales           |29864.391   |\n",
      "|89557614   |industria de produtos alimenticios piraque  |Southern America          |Brazil         |Finance         |6785.686    |\n",
      "|89558687   |bay shore camp                              |Northern America          |United States  |Admin           |42481.28    |\n",
      "-----------------------------------------------------------------------------------------------------------------------------------\n",
      "\n"
     ]
    }
   ],
   "source": [
    "dataset3 = session.sql('select user_id, company_cleaned, region, country, job_category, salary from workforce_data_analytics.public.revelio_individual_position')\n",
    "dataset3.show(20)"
   ],
   "metadata": {
    "collapsed": false,
    "ExecuteTime": {
     "end_time": "2023-07-17T07:49:43.104135600Z",
     "start_time": "2023-07-17T07:49:40.652357800Z"
    }
   }
  },
  {
   "cell_type": "markdown",
   "source": [
    "## Data Transformation"
   ],
   "metadata": {
    "collapsed": false
   }
  },
  {
   "cell_type": "markdown",
   "source": [
    "### Find Total Salary Spend per year and month for all companies"
   ],
   "metadata": {
    "collapsed": false
   }
  },
  {
   "cell_type": "code",
   "execution_count": 23,
   "outputs": [
    {
     "data": {
      "text/plain": "<snowflake.snowpark.dataframe.DataFrame at 0x215a433abb0>"
     },
     "execution_count": 23,
     "metadata": {},
     "output_type": "execute_result"
    }
   ],
   "source": [
    "dataset2.withColumn(\"STARTDATE\", col(\"STARTDATE\").cast(\"date\"))"
   ],
   "metadata": {
    "collapsed": false,
    "ExecuteTime": {
     "end_time": "2023-07-17T08:36:28.311447900Z",
     "start_time": "2023-07-17T08:36:27.002984500Z"
    }
   }
  },
  {
   "cell_type": "code",
   "execution_count": 25,
   "outputs": [
    {
     "name": "stdout",
     "output_type": "stream",
     "text": [
      "StringType()\n"
     ]
    }
   ],
   "source": [
    "print(dataset2.schema['STARTDATE'].datatype)"
   ],
   "metadata": {
    "collapsed": false,
    "ExecuteTime": {
     "end_time": "2023-07-17T08:36:32.658657400Z",
     "start_time": "2023-07-17T08:36:32.642935200Z"
    }
   }
  },
  {
   "cell_type": "code",
   "execution_count": 19,
   "outputs": [
    {
     "ename": "SnowparkSQLException",
     "evalue": "(1304): 01adaed3-0001-32de-0002-1e320007108a: 002016 (22000): SQL compilation error:\nFunction EXTRACT does not support VARCHAR(512) argument type",
     "output_type": "error",
     "traceback": [
      "\u001B[1;31m---------------------------------------------------------------------------\u001B[0m",
      "\u001B[1;31mSnowparkSQLException\u001B[0m                      Traceback (most recent call last)",
      "Cell \u001B[1;32mIn[19], line 1\u001B[0m\n\u001B[1;32m----> 1\u001B[0m spend_per_company \u001B[38;5;241m=\u001B[39m \u001B[43mdataset2\u001B[49m\u001B[38;5;241;43m.\u001B[39;49m\u001B[43mgroup_by\u001B[49m\u001B[43m(\u001B[49m\u001B[43myear\u001B[49m\u001B[43m(\u001B[49m\u001B[38;5;124;43m'\u001B[39;49m\u001B[38;5;124;43mstartdate\u001B[39;49m\u001B[38;5;124;43m'\u001B[39;49m\u001B[43m)\u001B[49m\u001B[43m,\u001B[49m\u001B[43m \u001B[49m\u001B[43mmonth\u001B[49m\u001B[43m(\u001B[49m\u001B[38;5;124;43m'\u001B[39;49m\u001B[38;5;124;43mstartdate\u001B[39;49m\u001B[38;5;124;43m'\u001B[39;49m\u001B[43m)\u001B[49m\u001B[43m,\u001B[49m\u001B[43m \u001B[49m\u001B[38;5;124;43m'\u001B[39;49m\u001B[38;5;124;43mcompany_cleaned\u001B[39;49m\u001B[38;5;124;43m'\u001B[39;49m\u001B[43m)\u001B[49m\u001B[38;5;241;43m.\u001B[39;49m\u001B[43magg\u001B[49m\u001B[43m(\u001B[49m\u001B[38;5;28;43msum\u001B[39;49m\u001B[43m(\u001B[49m\u001B[38;5;124;43m'\u001B[39;49m\u001B[38;5;124;43msalary\u001B[39;49m\u001B[38;5;124;43m'\u001B[39;49m\u001B[43m)\u001B[49m\u001B[38;5;241;43m.\u001B[39;49m\u001B[43mas_\u001B[49m\u001B[43m(\u001B[49m\u001B[38;5;124;43m'\u001B[39;49m\u001B[38;5;124;43mtotal_salary\u001B[39;49m\u001B[38;5;124;43m'\u001B[39;49m\u001B[43m)\u001B[49m\u001B[43m)\u001B[49m\u001B[38;5;241;43m.\u001B[39;49m\u001B[43m\\\u001B[49m\n\u001B[0;32m      2\u001B[0m \u001B[43m                    \u001B[49m\u001B[43mwith_column_renamed\u001B[49m\u001B[43m(\u001B[49m\u001B[38;5;124;43m'\u001B[39;49m\u001B[38;5;124;43m\"\u001B[39;49m\u001B[38;5;124;43myear(startdate)\u001B[39;49m\u001B[38;5;124;43m\"\u001B[39;49m\u001B[38;5;124;43m'\u001B[39;49m\u001B[43m,\u001B[49m\u001B[43m \u001B[49m\u001B[38;5;124;43m\"\u001B[39;49m\u001B[38;5;124;43myear\u001B[39;49m\u001B[38;5;124;43m\"\u001B[39;49m\u001B[43m)\u001B[49m\u001B[38;5;241m.\u001B[39m with_column_renamed(\u001B[38;5;124m'\u001B[39m\u001B[38;5;124m\"\u001B[39m\u001B[38;5;124mmonth(date)\u001B[39m\u001B[38;5;124m\"\u001B[39m\u001B[38;5;124m'\u001B[39m, \u001B[38;5;124m\"\u001B[39m\u001B[38;5;124mmonth\u001B[39m\u001B[38;5;124m\"\u001B[39m)\u001B[38;5;241m.\u001B[39msort(\u001B[38;5;124m'\u001B[39m\u001B[38;5;124myear\u001B[39m\u001B[38;5;124m'\u001B[39m, \u001B[38;5;124m'\u001B[39m\u001B[38;5;124mmonth\u001B[39m\u001B[38;5;124m'\u001B[39m)\n",
      "File \u001B[1;32m~\\Anaconda3\\envs\\snowpark-de-ml\\lib\\site-packages\\snowflake\\snowpark\\_internal\\telemetry.py:184\u001B[0m, in \u001B[0;36mdf_api_usage.<locals>.wrap\u001B[1;34m(*args, **kwargs)\u001B[0m\n\u001B[0;32m    182\u001B[0m \u001B[38;5;129m@functools\u001B[39m\u001B[38;5;241m.\u001B[39mwraps(func)\n\u001B[0;32m    183\u001B[0m \u001B[38;5;28;01mdef\u001B[39;00m \u001B[38;5;21mwrap\u001B[39m(\u001B[38;5;241m*\u001B[39margs, \u001B[38;5;241m*\u001B[39m\u001B[38;5;241m*\u001B[39mkwargs):\n\u001B[1;32m--> 184\u001B[0m     r \u001B[38;5;241m=\u001B[39m \u001B[43mfunc\u001B[49m\u001B[43m(\u001B[49m\u001B[38;5;241;43m*\u001B[39;49m\u001B[43margs\u001B[49m\u001B[43m,\u001B[49m\u001B[43m \u001B[49m\u001B[38;5;241;43m*\u001B[39;49m\u001B[38;5;241;43m*\u001B[39;49m\u001B[43mkwargs\u001B[49m\u001B[43m)\u001B[49m\n\u001B[0;32m    185\u001B[0m     plan \u001B[38;5;241m=\u001B[39m r\u001B[38;5;241m.\u001B[39m_select_statement \u001B[38;5;129;01mor\u001B[39;00m r\u001B[38;5;241m.\u001B[39m_plan\n\u001B[0;32m    186\u001B[0m     \u001B[38;5;66;03m# Some DataFrame APIs call other DataFrame APIs, so we need to remove the extra call\u001B[39;00m\n",
      "File \u001B[1;32m~\\Anaconda3\\envs\\snowpark-de-ml\\lib\\site-packages\\snowflake\\snowpark\\dataframe.py:3317\u001B[0m, in \u001B[0;36mDataFrame.with_column_renamed\u001B[1;34m(self, existing, new)\u001B[0m\n\u001B[0;32m   3314\u001B[0m \u001B[38;5;28;01melse\u001B[39;00m:\n\u001B[0;32m   3315\u001B[0m     \u001B[38;5;28;01mraise\u001B[39;00m \u001B[38;5;167;01mTypeError\u001B[39;00m(\u001B[38;5;124m\"\u001B[39m\u001B[38;5;124m'\u001B[39m\u001B[38;5;124mexisitng\u001B[39m\u001B[38;5;124m'\u001B[39m\u001B[38;5;124m must be a column name or Column object.\u001B[39m\u001B[38;5;124m\"\u001B[39m)\n\u001B[1;32m-> 3317\u001B[0m to_be_renamed \u001B[38;5;241m=\u001B[39m [x \u001B[38;5;28;01mfor\u001B[39;00m x \u001B[38;5;129;01min\u001B[39;00m \u001B[38;5;28;43mself\u001B[39;49m\u001B[38;5;241;43m.\u001B[39;49m\u001B[43m_output\u001B[49m \u001B[38;5;28;01mif\u001B[39;00m x\u001B[38;5;241m.\u001B[39mname\u001B[38;5;241m.\u001B[39mupper() \u001B[38;5;241m==\u001B[39m old_name\u001B[38;5;241m.\u001B[39mupper()]\n\u001B[0;32m   3318\u001B[0m \u001B[38;5;28;01mif\u001B[39;00m \u001B[38;5;129;01mnot\u001B[39;00m to_be_renamed:\n\u001B[0;32m   3319\u001B[0m     \u001B[38;5;28;01mraise\u001B[39;00m \u001B[38;5;167;01mValueError\u001B[39;00m(\n\u001B[0;32m   3320\u001B[0m         \u001B[38;5;124mf\u001B[39m\u001B[38;5;124m'\u001B[39m\u001B[38;5;124mUnable to rename column \u001B[39m\u001B[38;5;124m\"\u001B[39m\u001B[38;5;132;01m{\u001B[39;00mexisting\u001B[38;5;132;01m}\u001B[39;00m\u001B[38;5;124m\"\u001B[39m\u001B[38;5;124m because it doesn\u001B[39m\u001B[38;5;130;01m\\'\u001B[39;00m\u001B[38;5;124mt exist.\u001B[39m\u001B[38;5;124m'\u001B[39m\n\u001B[0;32m   3321\u001B[0m     )\n",
      "File \u001B[1;32m~\\Anaconda3\\envs\\snowpark-de-ml\\lib\\functools.py:967\u001B[0m, in \u001B[0;36mcached_property.__get__\u001B[1;34m(self, instance, owner)\u001B[0m\n\u001B[0;32m    965\u001B[0m val \u001B[38;5;241m=\u001B[39m cache\u001B[38;5;241m.\u001B[39mget(\u001B[38;5;28mself\u001B[39m\u001B[38;5;241m.\u001B[39mattrname, _NOT_FOUND)\n\u001B[0;32m    966\u001B[0m \u001B[38;5;28;01mif\u001B[39;00m val \u001B[38;5;129;01mis\u001B[39;00m _NOT_FOUND:\n\u001B[1;32m--> 967\u001B[0m     val \u001B[38;5;241m=\u001B[39m \u001B[38;5;28;43mself\u001B[39;49m\u001B[38;5;241;43m.\u001B[39;49m\u001B[43mfunc\u001B[49m\u001B[43m(\u001B[49m\u001B[43minstance\u001B[49m\u001B[43m)\u001B[49m\n\u001B[0;32m    968\u001B[0m     \u001B[38;5;28;01mtry\u001B[39;00m:\n\u001B[0;32m    969\u001B[0m         cache[\u001B[38;5;28mself\u001B[39m\u001B[38;5;241m.\u001B[39mattrname] \u001B[38;5;241m=\u001B[39m val\n",
      "File \u001B[1;32m~\\Anaconda3\\envs\\snowpark-de-ml\\lib\\site-packages\\snowflake\\snowpark\\dataframe.py:3532\u001B[0m, in \u001B[0;36mDataFrame._output\u001B[1;34m(self)\u001B[0m\n\u001B[0;32m   3529\u001B[0m \u001B[38;5;129m@cached_property\u001B[39m\n\u001B[0;32m   3530\u001B[0m \u001B[38;5;28;01mdef\u001B[39;00m \u001B[38;5;21m_output\u001B[39m(\u001B[38;5;28mself\u001B[39m) \u001B[38;5;241m-\u001B[39m\u001B[38;5;241m>\u001B[39m List[Attribute]:\n\u001B[0;32m   3531\u001B[0m     \u001B[38;5;28;01mreturn\u001B[39;00m (\n\u001B[1;32m-> 3532\u001B[0m         \u001B[38;5;28;43mself\u001B[39;49m\u001B[38;5;241;43m.\u001B[39;49m\u001B[43m_select_statement\u001B[49m\u001B[38;5;241;43m.\u001B[39;49m\u001B[43mcolumn_states\u001B[49m\u001B[38;5;241m.\u001B[39mprojection\n\u001B[0;32m   3533\u001B[0m         \u001B[38;5;28;01mif\u001B[39;00m \u001B[38;5;28mself\u001B[39m\u001B[38;5;241m.\u001B[39m_select_statement\n\u001B[0;32m   3534\u001B[0m         \u001B[38;5;28;01melse\u001B[39;00m \u001B[38;5;28mself\u001B[39m\u001B[38;5;241m.\u001B[39m_plan\u001B[38;5;241m.\u001B[39moutput\n\u001B[0;32m   3535\u001B[0m     )\n",
      "File \u001B[1;32m~\\Anaconda3\\envs\\snowpark-de-ml\\lib\\site-packages\\snowflake\\snowpark\\_internal\\analyzer\\select_statement.py:418\u001B[0m, in \u001B[0;36mSelectStatement.column_states\u001B[1;34m(self)\u001B[0m\n\u001B[0;32m    416\u001B[0m \u001B[38;5;28;01mif\u001B[39;00m \u001B[38;5;28mself\u001B[39m\u001B[38;5;241m.\u001B[39m_column_states \u001B[38;5;129;01mis\u001B[39;00m \u001B[38;5;28;01mNone\u001B[39;00m:\n\u001B[0;32m    417\u001B[0m     \u001B[38;5;28;01mif\u001B[39;00m \u001B[38;5;129;01mnot\u001B[39;00m \u001B[38;5;28mself\u001B[39m\u001B[38;5;241m.\u001B[39mprojection \u001B[38;5;129;01mand\u001B[39;00m \u001B[38;5;129;01mnot\u001B[39;00m \u001B[38;5;28mself\u001B[39m\u001B[38;5;241m.\u001B[39mhas_clause:\n\u001B[1;32m--> 418\u001B[0m         \u001B[38;5;28mself\u001B[39m\u001B[38;5;241m.\u001B[39m_column_states \u001B[38;5;241m=\u001B[39m \u001B[38;5;28;43mself\u001B[39;49m\u001B[38;5;241;43m.\u001B[39;49m\u001B[43mfrom_\u001B[49m\u001B[38;5;241;43m.\u001B[39;49m\u001B[43mcolumn_states\u001B[49m\n\u001B[0;32m    419\u001B[0m     \u001B[38;5;28;01melse\u001B[39;00m:\n\u001B[0;32m    420\u001B[0m         \u001B[38;5;28msuper\u001B[39m()\u001B[38;5;241m.\u001B[39mcolumn_states  \u001B[38;5;66;03m# will assign value to self._column_states\u001B[39;00m\n",
      "File \u001B[1;32m~\\Anaconda3\\envs\\snowpark-de-ml\\lib\\site-packages\\snowflake\\snowpark\\_internal\\analyzer\\select_statement.py:233\u001B[0m, in \u001B[0;36mSelectable.column_states\u001B[1;34m(self)\u001B[0m\n\u001B[0;32m    228\u001B[0m \u001B[38;5;250m\u001B[39m\u001B[38;5;124;03m\"\"\"A dictionary that contains the column states of a query.\u001B[39;00m\n\u001B[0;32m    229\u001B[0m \u001B[38;5;124;03mRefer to class ColumnStateDict.\u001B[39;00m\n\u001B[0;32m    230\u001B[0m \u001B[38;5;124;03m\"\"\"\u001B[39;00m\n\u001B[0;32m    231\u001B[0m \u001B[38;5;28;01mif\u001B[39;00m \u001B[38;5;28mself\u001B[39m\u001B[38;5;241m.\u001B[39m_column_states \u001B[38;5;129;01mis\u001B[39;00m \u001B[38;5;28;01mNone\u001B[39;00m:\n\u001B[0;32m    232\u001B[0m     \u001B[38;5;28mself\u001B[39m\u001B[38;5;241m.\u001B[39m_column_states \u001B[38;5;241m=\u001B[39m initiate_column_states(\n\u001B[1;32m--> 233\u001B[0m         \u001B[38;5;28;43mself\u001B[39;49m\u001B[38;5;241;43m.\u001B[39;49m\u001B[43msnowflake_plan\u001B[49m\u001B[38;5;241;43m.\u001B[39;49m\u001B[43mattributes\u001B[49m, \u001B[38;5;28mself\u001B[39m\u001B[38;5;241m.\u001B[39manalyzer\n\u001B[0;32m    234\u001B[0m     )\n\u001B[0;32m    235\u001B[0m \u001B[38;5;28;01mreturn\u001B[39;00m \u001B[38;5;28mself\u001B[39m\u001B[38;5;241m.\u001B[39m_column_states\n",
      "File \u001B[1;32m~\\Anaconda3\\envs\\snowpark-de-ml\\lib\\functools.py:967\u001B[0m, in \u001B[0;36mcached_property.__get__\u001B[1;34m(self, instance, owner)\u001B[0m\n\u001B[0;32m    965\u001B[0m val \u001B[38;5;241m=\u001B[39m cache\u001B[38;5;241m.\u001B[39mget(\u001B[38;5;28mself\u001B[39m\u001B[38;5;241m.\u001B[39mattrname, _NOT_FOUND)\n\u001B[0;32m    966\u001B[0m \u001B[38;5;28;01mif\u001B[39;00m val \u001B[38;5;129;01mis\u001B[39;00m _NOT_FOUND:\n\u001B[1;32m--> 967\u001B[0m     val \u001B[38;5;241m=\u001B[39m \u001B[38;5;28;43mself\u001B[39;49m\u001B[38;5;241;43m.\u001B[39;49m\u001B[43mfunc\u001B[49m\u001B[43m(\u001B[49m\u001B[43minstance\u001B[49m\u001B[43m)\u001B[49m\n\u001B[0;32m    968\u001B[0m     \u001B[38;5;28;01mtry\u001B[39;00m:\n\u001B[0;32m    969\u001B[0m         cache[\u001B[38;5;28mself\u001B[39m\u001B[38;5;241m.\u001B[39mattrname] \u001B[38;5;241m=\u001B[39m val\n",
      "File \u001B[1;32m~\\Anaconda3\\envs\\snowpark-de-ml\\lib\\site-packages\\snowflake\\snowpark\\_internal\\analyzer\\snowflake_plan.py:237\u001B[0m, in \u001B[0;36mSnowflakePlan.attributes\u001B[1;34m(self)\u001B[0m\n\u001B[0;32m    235\u001B[0m \u001B[38;5;129m@cached_property\u001B[39m\n\u001B[0;32m    236\u001B[0m \u001B[38;5;28;01mdef\u001B[39;00m \u001B[38;5;21mattributes\u001B[39m(\u001B[38;5;28mself\u001B[39m) \u001B[38;5;241m-\u001B[39m\u001B[38;5;241m>\u001B[39m List[Attribute]:\n\u001B[1;32m--> 237\u001B[0m     output \u001B[38;5;241m=\u001B[39m \u001B[43manalyze_attributes\u001B[49m\u001B[43m(\u001B[49m\u001B[38;5;28;43mself\u001B[39;49m\u001B[38;5;241;43m.\u001B[39;49m\u001B[43mschema_query\u001B[49m\u001B[43m,\u001B[49m\u001B[43m \u001B[49m\u001B[38;5;28;43mself\u001B[39;49m\u001B[38;5;241;43m.\u001B[39;49m\u001B[43msession\u001B[49m\u001B[43m)\u001B[49m\n\u001B[0;32m    238\u001B[0m     \u001B[38;5;28mself\u001B[39m\u001B[38;5;241m.\u001B[39mschema_query \u001B[38;5;241m=\u001B[39m schema_value_statement(output)\n\u001B[0;32m    239\u001B[0m     \u001B[38;5;28;01mreturn\u001B[39;00m output\n",
      "File \u001B[1;32m~\\Anaconda3\\envs\\snowpark-de-ml\\lib\\site-packages\\snowflake\\snowpark\\_internal\\analyzer\\schema_utils.py:82\u001B[0m, in \u001B[0;36manalyze_attributes\u001B[1;34m(sql, session)\u001B[0m\n\u001B[0;32m     79\u001B[0m     session\u001B[38;5;241m.\u001B[39m_run_query(sql)\n\u001B[0;32m     80\u001B[0m     \u001B[38;5;28;01mreturn\u001B[39;00m convert_result_meta_to_attribute(session\u001B[38;5;241m.\u001B[39m_conn\u001B[38;5;241m.\u001B[39m_cursor\u001B[38;5;241m.\u001B[39mdescription)\n\u001B[1;32m---> 82\u001B[0m \u001B[38;5;28;01mreturn\u001B[39;00m \u001B[43msession\u001B[49m\u001B[38;5;241;43m.\u001B[39;49m\u001B[43m_get_result_attributes\u001B[49m\u001B[43m(\u001B[49m\u001B[43msql\u001B[49m\u001B[43m)\u001B[49m\n",
      "File \u001B[1;32m~\\Anaconda3\\envs\\snowpark-de-ml\\lib\\site-packages\\snowflake\\snowpark\\session.py:1238\u001B[0m, in \u001B[0;36mSession._get_result_attributes\u001B[1;34m(self, query)\u001B[0m\n\u001B[0;32m   1237\u001B[0m \u001B[38;5;28;01mdef\u001B[39;00m \u001B[38;5;21m_get_result_attributes\u001B[39m(\u001B[38;5;28mself\u001B[39m, query: \u001B[38;5;28mstr\u001B[39m) \u001B[38;5;241m-\u001B[39m\u001B[38;5;241m>\u001B[39m List[Attribute]:\n\u001B[1;32m-> 1238\u001B[0m     \u001B[38;5;28;01mreturn\u001B[39;00m \u001B[38;5;28;43mself\u001B[39;49m\u001B[38;5;241;43m.\u001B[39;49m\u001B[43m_conn\u001B[49m\u001B[38;5;241;43m.\u001B[39;49m\u001B[43mget_result_attributes\u001B[49m\u001B[43m(\u001B[49m\u001B[43mquery\u001B[49m\u001B[43m)\u001B[49m\n",
      "File \u001B[1;32m~\\Anaconda3\\envs\\snowpark-de-ml\\lib\\site-packages\\snowflake\\snowpark\\_internal\\analyzer\\snowflake_plan.py:179\u001B[0m, in \u001B[0;36mSnowflakePlan.Decorator.wrap_exception.<locals>.wrap\u001B[1;34m(*args, **kwargs)\u001B[0m\n\u001B[0;32m    175\u001B[0m \u001B[38;5;28;01melse\u001B[39;00m:\n\u001B[0;32m    176\u001B[0m     ne \u001B[38;5;241m=\u001B[39m SnowparkClientExceptionMessages\u001B[38;5;241m.\u001B[39mSQL_EXCEPTION_FROM_PROGRAMMING_ERROR(\n\u001B[0;32m    177\u001B[0m         e\n\u001B[0;32m    178\u001B[0m     )\n\u001B[1;32m--> 179\u001B[0m     \u001B[38;5;28;01mraise\u001B[39;00m ne\u001B[38;5;241m.\u001B[39mwith_traceback(tb) \u001B[38;5;28;01mfrom\u001B[39;00m \u001B[38;5;28;01mNone\u001B[39;00m\n",
      "File \u001B[1;32m~\\Anaconda3\\envs\\snowpark-de-ml\\lib\\site-packages\\snowflake\\snowpark\\_internal\\analyzer\\snowflake_plan.py:109\u001B[0m, in \u001B[0;36mSnowflakePlan.Decorator.wrap_exception.<locals>.wrap\u001B[1;34m(*args, **kwargs)\u001B[0m\n\u001B[0;32m    107\u001B[0m \u001B[38;5;28;01mdef\u001B[39;00m \u001B[38;5;21mwrap\u001B[39m(\u001B[38;5;241m*\u001B[39margs, \u001B[38;5;241m*\u001B[39m\u001B[38;5;241m*\u001B[39mkwargs):\n\u001B[0;32m    108\u001B[0m     \u001B[38;5;28;01mtry\u001B[39;00m:\n\u001B[1;32m--> 109\u001B[0m         \u001B[38;5;28;01mreturn\u001B[39;00m \u001B[43mfunc\u001B[49m\u001B[43m(\u001B[49m\u001B[38;5;241;43m*\u001B[39;49m\u001B[43margs\u001B[49m\u001B[43m,\u001B[49m\u001B[43m \u001B[49m\u001B[38;5;241;43m*\u001B[39;49m\u001B[38;5;241;43m*\u001B[39;49m\u001B[43mkwargs\u001B[49m\u001B[43m)\u001B[49m\n\u001B[0;32m    110\u001B[0m     \u001B[38;5;28;01mexcept\u001B[39;00m snowflake\u001B[38;5;241m.\u001B[39mconnector\u001B[38;5;241m.\u001B[39merrors\u001B[38;5;241m.\u001B[39mProgrammingError \u001B[38;5;28;01mas\u001B[39;00m e:\n\u001B[0;32m    111\u001B[0m         query \u001B[38;5;241m=\u001B[39m \u001B[38;5;28;01mNone\u001B[39;00m\n",
      "File \u001B[1;32m~\\Anaconda3\\envs\\snowpark-de-ml\\lib\\site-packages\\snowflake\\snowpark\\_internal\\server_connection.py:206\u001B[0m, in \u001B[0;36mServerConnection.get_result_attributes\u001B[1;34m(self, query)\u001B[0m\n\u001B[0;32m    204\u001B[0m \u001B[38;5;129m@SnowflakePlan\u001B[39m\u001B[38;5;241m.\u001B[39mDecorator\u001B[38;5;241m.\u001B[39mwrap_exception\n\u001B[0;32m    205\u001B[0m \u001B[38;5;28;01mdef\u001B[39;00m \u001B[38;5;21mget_result_attributes\u001B[39m(\u001B[38;5;28mself\u001B[39m, query: \u001B[38;5;28mstr\u001B[39m) \u001B[38;5;241m-\u001B[39m\u001B[38;5;241m>\u001B[39m List[Attribute]:\n\u001B[1;32m--> 206\u001B[0m     \u001B[38;5;28;01mreturn\u001B[39;00m convert_result_meta_to_attribute(\u001B[38;5;28;43mself\u001B[39;49m\u001B[38;5;241;43m.\u001B[39;49m\u001B[43m_cursor\u001B[49m\u001B[38;5;241;43m.\u001B[39;49m\u001B[43mdescribe\u001B[49m\u001B[43m(\u001B[49m\u001B[43mquery\u001B[49m\u001B[43m)\u001B[49m)\n",
      "File \u001B[1;32m~\\Anaconda3\\envs\\snowpark-de-ml\\lib\\site-packages\\snowflake\\connector\\cursor.py:926\u001B[0m, in \u001B[0;36mSnowflakeCursor.describe\u001B[1;34m(self, *args, **kwargs)\u001B[0m\n\u001B[0;32m    917\u001B[0m \u001B[38;5;250m\u001B[39m\u001B[38;5;124;03m\"\"\"Obtain the schema of the result without executing the query.\u001B[39;00m\n\u001B[0;32m    918\u001B[0m \n\u001B[0;32m    919\u001B[0m \u001B[38;5;124;03mThis function takes the same arguments as execute, please refer to that function\u001B[39;00m\n\u001B[1;32m   (...)\u001B[0m\n\u001B[0;32m    923\u001B[0m \u001B[38;5;124;03m    The schema of the result.\u001B[39;00m\n\u001B[0;32m    924\u001B[0m \u001B[38;5;124;03m\"\"\"\u001B[39;00m\n\u001B[0;32m    925\u001B[0m kwargs[\u001B[38;5;124m\"\u001B[39m\u001B[38;5;124m_describe_only\u001B[39m\u001B[38;5;124m\"\u001B[39m] \u001B[38;5;241m=\u001B[39m kwargs[\u001B[38;5;124m\"\u001B[39m\u001B[38;5;124m_is_internal\u001B[39m\u001B[38;5;124m\"\u001B[39m] \u001B[38;5;241m=\u001B[39m \u001B[38;5;28;01mTrue\u001B[39;00m\n\u001B[1;32m--> 926\u001B[0m \u001B[38;5;28;43mself\u001B[39;49m\u001B[38;5;241;43m.\u001B[39;49m\u001B[43mexecute\u001B[49m\u001B[43m(\u001B[49m\u001B[38;5;241;43m*\u001B[39;49m\u001B[43margs\u001B[49m\u001B[43m,\u001B[49m\u001B[43m \u001B[49m\u001B[38;5;241;43m*\u001B[39;49m\u001B[38;5;241;43m*\u001B[39;49m\u001B[43mkwargs\u001B[49m\u001B[43m)\u001B[49m\n\u001B[0;32m    927\u001B[0m \u001B[38;5;28;01mreturn\u001B[39;00m \u001B[38;5;28mself\u001B[39m\u001B[38;5;241m.\u001B[39m_description\n",
      "File \u001B[1;32m~\\Anaconda3\\envs\\snowpark-de-ml\\lib\\site-packages\\snowflake\\connector\\cursor.py:904\u001B[0m, in \u001B[0;36mSnowflakeCursor.execute\u001B[1;34m(self, command, params, _bind_stage, timeout, _exec_async, _no_retry, _do_reset, _put_callback, _put_azure_callback, _put_callback_output_stream, _get_callback, _get_azure_callback, _get_callback_output_stream, _show_progress_bar, _statement_params, _is_internal, _describe_only, _no_results, _is_put_get, _raise_put_get_error, _force_put_overwrite, _skip_upload_on_content_match, file_stream, num_statements)\u001B[0m\n\u001B[0;32m    900\u001B[0m     is_integrity_error \u001B[38;5;241m=\u001B[39m (\n\u001B[0;32m    901\u001B[0m         code \u001B[38;5;241m==\u001B[39m \u001B[38;5;124m\"\u001B[39m\u001B[38;5;124m100072\u001B[39m\u001B[38;5;124m\"\u001B[39m\n\u001B[0;32m    902\u001B[0m     )  \u001B[38;5;66;03m# NULL result in a non-nullable column\u001B[39;00m\n\u001B[0;32m    903\u001B[0m     error_class \u001B[38;5;241m=\u001B[39m IntegrityError \u001B[38;5;28;01mif\u001B[39;00m is_integrity_error \u001B[38;5;28;01melse\u001B[39;00m ProgrammingError\n\u001B[1;32m--> 904\u001B[0m     \u001B[43mError\u001B[49m\u001B[38;5;241;43m.\u001B[39;49m\u001B[43merrorhandler_wrapper\u001B[49m\u001B[43m(\u001B[49m\u001B[38;5;28;43mself\u001B[39;49m\u001B[38;5;241;43m.\u001B[39;49m\u001B[43mconnection\u001B[49m\u001B[43m,\u001B[49m\u001B[43m \u001B[49m\u001B[38;5;28;43mself\u001B[39;49m\u001B[43m,\u001B[49m\u001B[43m \u001B[49m\u001B[43merror_class\u001B[49m\u001B[43m,\u001B[49m\u001B[43m \u001B[49m\u001B[43merrvalue\u001B[49m\u001B[43m)\u001B[49m\n\u001B[0;32m    905\u001B[0m \u001B[38;5;28;01mreturn\u001B[39;00m \u001B[38;5;28mself\u001B[39m\n",
      "File \u001B[1;32m~\\Anaconda3\\envs\\snowpark-de-ml\\lib\\site-packages\\snowflake\\connector\\errors.py:290\u001B[0m, in \u001B[0;36mError.errorhandler_wrapper\u001B[1;34m(connection, cursor, error_class, error_value)\u001B[0m\n\u001B[0;32m    267\u001B[0m \u001B[38;5;129m@staticmethod\u001B[39m\n\u001B[0;32m    268\u001B[0m \u001B[38;5;28;01mdef\u001B[39;00m \u001B[38;5;21merrorhandler_wrapper\u001B[39m(\n\u001B[0;32m    269\u001B[0m     connection: SnowflakeConnection \u001B[38;5;241m|\u001B[39m \u001B[38;5;28;01mNone\u001B[39;00m,\n\u001B[1;32m   (...)\u001B[0m\n\u001B[0;32m    272\u001B[0m     error_value: \u001B[38;5;28mdict\u001B[39m[\u001B[38;5;28mstr\u001B[39m, Any],\n\u001B[0;32m    273\u001B[0m ) \u001B[38;5;241m-\u001B[39m\u001B[38;5;241m>\u001B[39m \u001B[38;5;28;01mNone\u001B[39;00m:\n\u001B[0;32m    274\u001B[0m \u001B[38;5;250m    \u001B[39m\u001B[38;5;124;03m\"\"\"Error handler wrapper that calls the errorhandler method.\u001B[39;00m\n\u001B[0;32m    275\u001B[0m \n\u001B[0;32m    276\u001B[0m \u001B[38;5;124;03m    Args:\u001B[39;00m\n\u001B[1;32m   (...)\u001B[0m\n\u001B[0;32m    287\u001B[0m \u001B[38;5;124;03m        exception to the first handler in that order.\u001B[39;00m\n\u001B[0;32m    288\u001B[0m \u001B[38;5;124;03m    \"\"\"\u001B[39;00m\n\u001B[1;32m--> 290\u001B[0m     handed_over \u001B[38;5;241m=\u001B[39m \u001B[43mError\u001B[49m\u001B[38;5;241;43m.\u001B[39;49m\u001B[43mhand_to_other_handler\u001B[49m\u001B[43m(\u001B[49m\n\u001B[0;32m    291\u001B[0m \u001B[43m        \u001B[49m\u001B[43mconnection\u001B[49m\u001B[43m,\u001B[49m\n\u001B[0;32m    292\u001B[0m \u001B[43m        \u001B[49m\u001B[43mcursor\u001B[49m\u001B[43m,\u001B[49m\n\u001B[0;32m    293\u001B[0m \u001B[43m        \u001B[49m\u001B[43merror_class\u001B[49m\u001B[43m,\u001B[49m\n\u001B[0;32m    294\u001B[0m \u001B[43m        \u001B[49m\u001B[43merror_value\u001B[49m\u001B[43m,\u001B[49m\n\u001B[0;32m    295\u001B[0m \u001B[43m    \u001B[49m\u001B[43m)\u001B[49m\n\u001B[0;32m    296\u001B[0m     \u001B[38;5;28;01mif\u001B[39;00m \u001B[38;5;129;01mnot\u001B[39;00m handed_over:\n\u001B[0;32m    297\u001B[0m         \u001B[38;5;28;01mraise\u001B[39;00m Error\u001B[38;5;241m.\u001B[39merrorhandler_make_exception(\n\u001B[0;32m    298\u001B[0m             error_class,\n\u001B[0;32m    299\u001B[0m             error_value,\n\u001B[0;32m    300\u001B[0m         )\n",
      "File \u001B[1;32m~\\Anaconda3\\envs\\snowpark-de-ml\\lib\\site-packages\\snowflake\\connector\\errors.py:345\u001B[0m, in \u001B[0;36mError.hand_to_other_handler\u001B[1;34m(connection, cursor, error_class, error_value)\u001B[0m\n\u001B[0;32m    343\u001B[0m \u001B[38;5;28;01mif\u001B[39;00m cursor \u001B[38;5;129;01mis\u001B[39;00m \u001B[38;5;129;01mnot\u001B[39;00m \u001B[38;5;28;01mNone\u001B[39;00m:\n\u001B[0;32m    344\u001B[0m     cursor\u001B[38;5;241m.\u001B[39mmessages\u001B[38;5;241m.\u001B[39mappend((error_class, error_value))\n\u001B[1;32m--> 345\u001B[0m     \u001B[43mcursor\u001B[49m\u001B[38;5;241;43m.\u001B[39;49m\u001B[43merrorhandler\u001B[49m\u001B[43m(\u001B[49m\u001B[43mconnection\u001B[49m\u001B[43m,\u001B[49m\u001B[43m \u001B[49m\u001B[43mcursor\u001B[49m\u001B[43m,\u001B[49m\u001B[43m \u001B[49m\u001B[43merror_class\u001B[49m\u001B[43m,\u001B[49m\u001B[43m \u001B[49m\u001B[43merror_value\u001B[49m\u001B[43m)\u001B[49m\n\u001B[0;32m    346\u001B[0m     \u001B[38;5;28;01mreturn\u001B[39;00m \u001B[38;5;28;01mTrue\u001B[39;00m\n\u001B[0;32m    347\u001B[0m \u001B[38;5;28;01melif\u001B[39;00m connection \u001B[38;5;129;01mis\u001B[39;00m \u001B[38;5;129;01mnot\u001B[39;00m \u001B[38;5;28;01mNone\u001B[39;00m:\n",
      "File \u001B[1;32m~\\Anaconda3\\envs\\snowpark-de-ml\\lib\\site-packages\\snowflake\\connector\\errors.py:221\u001B[0m, in \u001B[0;36mError.default_errorhandler\u001B[1;34m(connection, cursor, error_class, error_value)\u001B[0m\n\u001B[0;32m    219\u001B[0m errno \u001B[38;5;241m=\u001B[39m error_value\u001B[38;5;241m.\u001B[39mget(\u001B[38;5;124m\"\u001B[39m\u001B[38;5;124merrno\u001B[39m\u001B[38;5;124m\"\u001B[39m)\n\u001B[0;32m    220\u001B[0m done_format_msg \u001B[38;5;241m=\u001B[39m error_value\u001B[38;5;241m.\u001B[39mget(\u001B[38;5;124m\"\u001B[39m\u001B[38;5;124mdone_format_msg\u001B[39m\u001B[38;5;124m\"\u001B[39m)\n\u001B[1;32m--> 221\u001B[0m \u001B[38;5;28;01mraise\u001B[39;00m error_class(\n\u001B[0;32m    222\u001B[0m     msg\u001B[38;5;241m=\u001B[39merror_value\u001B[38;5;241m.\u001B[39mget(\u001B[38;5;124m\"\u001B[39m\u001B[38;5;124mmsg\u001B[39m\u001B[38;5;124m\"\u001B[39m),\n\u001B[0;32m    223\u001B[0m     errno\u001B[38;5;241m=\u001B[39m\u001B[38;5;28;01mNone\u001B[39;00m \u001B[38;5;28;01mif\u001B[39;00m errno \u001B[38;5;129;01mis\u001B[39;00m \u001B[38;5;28;01mNone\u001B[39;00m \u001B[38;5;28;01melse\u001B[39;00m \u001B[38;5;28mint\u001B[39m(errno),\n\u001B[0;32m    224\u001B[0m     sqlstate\u001B[38;5;241m=\u001B[39merror_value\u001B[38;5;241m.\u001B[39mget(\u001B[38;5;124m\"\u001B[39m\u001B[38;5;124msqlstate\u001B[39m\u001B[38;5;124m\"\u001B[39m),\n\u001B[0;32m    225\u001B[0m     sfqid\u001B[38;5;241m=\u001B[39merror_value\u001B[38;5;241m.\u001B[39mget(\u001B[38;5;124m\"\u001B[39m\u001B[38;5;124msfqid\u001B[39m\u001B[38;5;124m\"\u001B[39m),\n\u001B[0;32m    226\u001B[0m     query\u001B[38;5;241m=\u001B[39merror_value\u001B[38;5;241m.\u001B[39mget(\u001B[38;5;124m\"\u001B[39m\u001B[38;5;124mquery\u001B[39m\u001B[38;5;124m\"\u001B[39m),\n\u001B[0;32m    227\u001B[0m     done_format_msg\u001B[38;5;241m=\u001B[39m(\n\u001B[0;32m    228\u001B[0m         \u001B[38;5;28;01mNone\u001B[39;00m \u001B[38;5;28;01mif\u001B[39;00m done_format_msg \u001B[38;5;129;01mis\u001B[39;00m \u001B[38;5;28;01mNone\u001B[39;00m \u001B[38;5;28;01melse\u001B[39;00m \u001B[38;5;28mbool\u001B[39m(done_format_msg)\n\u001B[0;32m    229\u001B[0m     ),\n\u001B[0;32m    230\u001B[0m     connection\u001B[38;5;241m=\u001B[39mconnection,\n\u001B[0;32m    231\u001B[0m     cursor\u001B[38;5;241m=\u001B[39mcursor,\n\u001B[0;32m    232\u001B[0m )\n",
      "\u001B[1;31mSnowparkSQLException\u001B[0m: (1304): 01adaed3-0001-32de-0002-1e320007108a: 002016 (22000): SQL compilation error:\nFunction EXTRACT does not support VARCHAR(512) argument type"
     ]
    }
   ],
   "source": [
    "spend_per_company = dataset2.group_by(year('startdate'), month('startdate'), 'company_cleaned').agg(sum('salary').as_('total_salary')).\\\n",
    "                    with_column_renamed('\"year(startdate)\"', \"year\"). with_column_renamed('\"month(date)\"', \"month\").sort('year', 'month')"
   ],
   "metadata": {
    "collapsed": false,
    "ExecuteTime": {
     "end_time": "2023-07-17T08:16:46.490554100Z",
     "start_time": "2023-07-17T08:16:45.974438400Z"
    }
   }
  },
  {
   "cell_type": "code",
   "execution_count": null,
   "outputs": [],
   "source": [],
   "metadata": {
    "collapsed": false
   }
  }
 ],
 "metadata": {
  "kernelspec": {
   "display_name": "Python 3",
   "language": "python",
   "name": "python3"
  },
  "language_info": {
   "codemirror_mode": {
    "name": "ipython",
    "version": 2
   },
   "file_extension": ".py",
   "mimetype": "text/x-python",
   "name": "python",
   "nbconvert_exporter": "python",
   "pygments_lexer": "ipython2",
   "version": "2.7.6"
  }
 },
 "nbformat": 4,
 "nbformat_minor": 0
}
